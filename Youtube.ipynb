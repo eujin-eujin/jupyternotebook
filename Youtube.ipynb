{
 "cells": [
  {
   "cell_type": "code",
   "execution_count": 1,
   "id": "31e2ab15",
   "metadata": {},
   "outputs": [],
   "source": [
    "import pandas as pd\n",
    "import numpy as np\n",
    "import os\n",
    "pd.set_option('display.max_rows',100)\n",
    "pd.set_option('display.max_columns',1000)"
   ]
  },
  {
   "cell_type": "code",
   "execution_count": 2,
   "id": "5024790f",
   "metadata": {},
   "outputs": [],
   "source": [
    "def make_change(df):\n",
    "    df = df.rename(columns={'urls':'channel urls'})\n",
    "    df['employee id'] = 'EGOO1' \n",
    "    df ['status'] = ''\n",
    "    df['thumbnail id'] = [f\"EG001T{i+1}\" for i in range(df.shape[0]) ]\n",
    "    df = df[['employee id','thumbnail id','channel urls','status']]\n",
    "    new_df = df.reset_index(drop=True)\n",
    "#     csv = new_df.to_csv(r'C:\\Users\\eujin\\OneDrive\\Desktop\\EG\\youtubechannels.csv',index=False)\n"
   ]
  },
  {
   "cell_type": "code",
   "execution_count": 3,
   "id": "a6a96728",
   "metadata": {},
   "outputs": [],
   "source": [
    "df = pd.read_csv(r'C:\\Users\\eujin\\PycharmProjects\\pythonProject\\venv\\webscraping\\youtubebot\\data\\channels7.csv')\n",
    "df.drop('channel name',axis=1,inplace=True)\n",
    "pd.set_option('display.max_colwidth', None)\n",
    "# df[(df['subscribers']>100000)&(df['subscribers']<150000)][['urls','channel id','video counts','income','email id']].head(100)"
   ]
  },
  {
   "cell_type": "code",
   "execution_count": 4,
   "id": "355b3900",
   "metadata": {},
   "outputs": [
    {
     "data": {
      "text/html": [
       "<div>\n",
       "<style scoped>\n",
       "    .dataframe tbody tr th:only-of-type {\n",
       "        vertical-align: middle;\n",
       "    }\n",
       "\n",
       "    .dataframe tbody tr th {\n",
       "        vertical-align: top;\n",
       "    }\n",
       "\n",
       "    .dataframe thead th {\n",
       "        text-align: right;\n",
       "    }\n",
       "</style>\n",
       "<table border=\"1\" class=\"dataframe\">\n",
       "  <thead>\n",
       "    <tr style=\"text-align: right;\">\n",
       "      <th></th>\n",
       "      <th>urls</th>\n",
       "      <th>subscribers</th>\n",
       "      <th>video counts</th>\n",
       "      <th>income</th>\n",
       "    </tr>\n",
       "  </thead>\n",
       "  <tbody>\n",
       "    <tr>\n",
       "      <th>7356</th>\n",
       "      <td>https://www.youtube.com/@Taste_with_ibrahim/videos</td>\n",
       "      <td>185000.0</td>\n",
       "      <td>2.0</td>\n",
       "      <td>0.0</td>\n",
       "    </tr>\n",
       "    <tr>\n",
       "      <th>7385</th>\n",
       "      <td>https://www.youtube.com/@praghyavilla/videos</td>\n",
       "      <td>171000.0</td>\n",
       "      <td>2.0</td>\n",
       "      <td>0.0</td>\n",
       "    </tr>\n",
       "    <tr>\n",
       "      <th>7406</th>\n",
       "      <td>https://www.youtube.com/@Villagedrinkman/videos</td>\n",
       "      <td>354000.0</td>\n",
       "      <td>1.0</td>\n",
       "      <td>0.0</td>\n",
       "    </tr>\n",
       "    <tr>\n",
       "      <th>7471</th>\n",
       "      <td>https://www.youtube.com/@HelloTamizhaOfficial/videos</td>\n",
       "      <td>201000.0</td>\n",
       "      <td>4.0</td>\n",
       "      <td>0.0</td>\n",
       "    </tr>\n",
       "    <tr>\n",
       "      <th>7505</th>\n",
       "      <td>https://www.youtube.com/@Abified/videos</td>\n",
       "      <td>212000.0</td>\n",
       "      <td>1.0</td>\n",
       "      <td>0.0</td>\n",
       "    </tr>\n",
       "    <tr>\n",
       "      <th>7522</th>\n",
       "      <td>https://www.youtube.com/@oorulagam/videos</td>\n",
       "      <td>160000.0</td>\n",
       "      <td>4.0</td>\n",
       "      <td>0.0</td>\n",
       "    </tr>\n",
       "    <tr>\n",
       "      <th>7545</th>\n",
       "      <td>https://www.youtube.com/@BUSINESSVLOG/videos</td>\n",
       "      <td>200000.0</td>\n",
       "      <td>2.0</td>\n",
       "      <td>0.0</td>\n",
       "    </tr>\n",
       "    <tr>\n",
       "      <th>7573</th>\n",
       "      <td>https://www.youtube.com/@RangarajPandeyOffical/videos</td>\n",
       "      <td>254000.0</td>\n",
       "      <td>3.0</td>\n",
       "      <td>0.0</td>\n",
       "    </tr>\n",
       "    <tr>\n",
       "      <th>7582</th>\n",
       "      <td>https://www.youtube.com/@KeerthiSowmiVlogs/videos</td>\n",
       "      <td>437000.0</td>\n",
       "      <td>4.0</td>\n",
       "      <td>0.0</td>\n",
       "    </tr>\n",
       "    <tr>\n",
       "      <th>7590</th>\n",
       "      <td>https://www.youtube.com/@tamilspeechbox/videos</td>\n",
       "      <td>233000.0</td>\n",
       "      <td>4.0</td>\n",
       "      <td>0.0</td>\n",
       "    </tr>\n",
       "    <tr>\n",
       "      <th>7622</th>\n",
       "      <td>https://www.youtube.com/@suzyshomestead/videos</td>\n",
       "      <td>142000.0</td>\n",
       "      <td>3.0</td>\n",
       "      <td>0.0</td>\n",
       "    </tr>\n",
       "    <tr>\n",
       "      <th>7662</th>\n",
       "      <td>https://www.youtube.com/@Miradasbiologicas/videos</td>\n",
       "      <td>201000.0</td>\n",
       "      <td>3.0</td>\n",
       "      <td>0.0</td>\n",
       "    </tr>\n",
       "    <tr>\n",
       "      <th>7731</th>\n",
       "      <td>https://www.youtube.com/@AdiBirua/videos</td>\n",
       "      <td>177000.0</td>\n",
       "      <td>2.0</td>\n",
       "      <td>0.0</td>\n",
       "    </tr>\n",
       "    <tr>\n",
       "      <th>7853</th>\n",
       "      <td>https://www.youtube.com/@BJMedia/videos</td>\n",
       "      <td>103000.0</td>\n",
       "      <td>1.0</td>\n",
       "      <td>0.0</td>\n",
       "    </tr>\n",
       "    <tr>\n",
       "      <th>7928</th>\n",
       "      <td>https://www.youtube.com/@AafiqSafiqSingariya/videos</td>\n",
       "      <td>126000.0</td>\n",
       "      <td>1.0</td>\n",
       "      <td>0.0</td>\n",
       "    </tr>\n",
       "    <tr>\n",
       "      <th>7929</th>\n",
       "      <td>https://www.youtube.com/@alexandertheguest/videos</td>\n",
       "      <td>166000.0</td>\n",
       "      <td>3.0</td>\n",
       "      <td>0.0</td>\n",
       "    </tr>\n",
       "    <tr>\n",
       "      <th>7965</th>\n",
       "      <td>https://www.youtube.com/@1GBTech/videos</td>\n",
       "      <td>159000.0</td>\n",
       "      <td>3.0</td>\n",
       "      <td>0.0</td>\n",
       "    </tr>\n",
       "  </tbody>\n",
       "</table>\n",
       "</div>"
      ],
      "text/plain": [
       "                                                       urls  subscribers  \\\n",
       "7356     https://www.youtube.com/@Taste_with_ibrahim/videos     185000.0   \n",
       "7385           https://www.youtube.com/@praghyavilla/videos     171000.0   \n",
       "7406        https://www.youtube.com/@Villagedrinkman/videos     354000.0   \n",
       "7471   https://www.youtube.com/@HelloTamizhaOfficial/videos     201000.0   \n",
       "7505                https://www.youtube.com/@Abified/videos     212000.0   \n",
       "7522              https://www.youtube.com/@oorulagam/videos     160000.0   \n",
       "7545           https://www.youtube.com/@BUSINESSVLOG/videos     200000.0   \n",
       "7573  https://www.youtube.com/@RangarajPandeyOffical/videos     254000.0   \n",
       "7582      https://www.youtube.com/@KeerthiSowmiVlogs/videos     437000.0   \n",
       "7590         https://www.youtube.com/@tamilspeechbox/videos     233000.0   \n",
       "7622         https://www.youtube.com/@suzyshomestead/videos     142000.0   \n",
       "7662      https://www.youtube.com/@Miradasbiologicas/videos     201000.0   \n",
       "7731               https://www.youtube.com/@AdiBirua/videos     177000.0   \n",
       "7853                https://www.youtube.com/@BJMedia/videos     103000.0   \n",
       "7928    https://www.youtube.com/@AafiqSafiqSingariya/videos     126000.0   \n",
       "7929      https://www.youtube.com/@alexandertheguest/videos     166000.0   \n",
       "7965                https://www.youtube.com/@1GBTech/videos     159000.0   \n",
       "\n",
       "      video counts  income  \n",
       "7356           2.0     0.0  \n",
       "7385           2.0     0.0  \n",
       "7406           1.0     0.0  \n",
       "7471           4.0     0.0  \n",
       "7505           1.0     0.0  \n",
       "7522           4.0     0.0  \n",
       "7545           2.0     0.0  \n",
       "7573           3.0     0.0  \n",
       "7582           4.0     0.0  \n",
       "7590           4.0     0.0  \n",
       "7622           3.0     0.0  \n",
       "7662           3.0     0.0  \n",
       "7731           2.0     0.0  \n",
       "7853           1.0     0.0  \n",
       "7928           1.0     0.0  \n",
       "7929           3.0     0.0  \n",
       "7965           3.0     0.0  "
      ]
     },
     "execution_count": 4,
     "metadata": {},
     "output_type": "execute_result"
    }
   ],
   "source": [
    "df = pd.read_csv(r'C:\\\\Users\\\\eujin\\\\PycharmProjects\\\\pythonProject\\\\venv\\\\webscraping\\\\youtubebot\\\\data\\\\channels9.csv')\n",
    "df = df[df['keywords'].isin([\n",
    "   'மிகவும் கம்மியான விலையில்',\n",
    "   'online  விட கம்மி',\n",
    "   'வேற என்கவும் போக மாட்டீங்க',\n",
    "    'எல்லாமே Best  ஆ தான் இருக்கும்',\n",
    "    'No 1. in TamilNadu',\n",
    "])]\n",
    "df.dropna(subset=['subscribers','response'],axis=0,inplace=True)\n",
    "df.income.fillna(0,inplace=True)\n",
    "df['video counts'].fillna(0,inplace=True)\n",
    "df[(df['subscribers']<600000)&(df['subscribers']>100000)&(df['video counts']<5)][['urls','subscribers','video counts','income']]\n"
   ]
  },
  {
   "cell_type": "code",
   "execution_count": 5,
   "id": "f42356a0",
   "metadata": {},
   "outputs": [],
   "source": [
    "    \n",
    "scraper_dir = r'C:\\Users\\eujin\\PycharmProjects\\pythonProject\\venv\\webscraping\\youtubebot'\n",
    "csv_files_path = [rf'{scraper_dir}\\data\\{csv}' for csv in os.listdir(rf'{scraper_dir}\\data')]\n",
    "all_df = [ pd.read_csv(df) for df in csv_files_path ]"
   ]
  },
  {
   "cell_type": "code",
   "execution_count": 6,
   "id": "c90951e5",
   "metadata": {},
   "outputs": [],
   "source": [
    "# adding column and merging csv..\n",
    "\n",
    "def check_columns(all_df):\n",
    "    for i, df in enumerate(all_df[1:],start=1):\n",
    "        df['video counts'] = [\"\" for i in range(df.shape[0])]\n",
    "        df.to_csv(\n",
    "        rf'C:\\Users\\eujin\\PycharmProjects\\pythonProject\\venv\\webscraping\\youtubebot\\data\\channels{i}.csv',index=False)\n",
    "    for column in all_df[0]:\n",
    "        if column not in all_df[1]:\n",
    "            print(column)\n",
    "        \n",
    "def merge_csv(all_df):\n",
    "    merged_df = pd.concat(all_df[1:],axis=0,ignore_index=True)\n",
    "    merged_df.to_csv(r'C:\\Users\\eujin\\PycharmProjects\\pythonProject\\venv\\webscraping\\youtubebot\\data\\allchannels.csv',index=False)\n",
    "    \n",
    "scraper_dir = r'C:\\Users\\eujin\\PycharmProjects\\pythonProject\\venv\\webscraping\\youtubebot'\n",
    "csv_files_path = [rf'{scraper_dir}\\data\\{csv}' for csv in os.listdir(rf'{scraper_dir}\\data')]\n",
    "all_df = [ pd.read_csv(df) for df in csv_files_path ]\n",
    "check_columns(all_df)\n",
    "merge_csv(all_df)\n",
    "\n"
   ]
  },
  {
   "cell_type": "code",
   "execution_count": null,
   "id": "91750e5b",
   "metadata": {},
   "outputs": [],
   "source": [
    "merged_df = pd.concat(all_df[1:],axis=0,ignore_index=True)\n",
    "len(merged_df.keywords.unique())\n",
    "merged_df.keywords.unique()"
   ]
  },
  {
   "cell_type": "code",
   "execution_count": 31,
   "id": "3420792f",
   "metadata": {},
   "outputs": [],
   "source": [
    "df = pd.read_csv(r'C:\\Users\\eujin\\PycharmProjects\\pythonProject\\venv\\webscraping\\youtubebot\\data\\allchannels.csv')\n",
    "df[df.duplicated(subset=['channel id'])]\n",
    "df.drop_duplicates(subset=['channel id'],inplace=True)\n",
    "save_Csv  = df.to_csv(r'C:\\Users\\eujin\\PycharmProjects\\pythonProject\\venv\\webscraping\\youtubebot\\data\\allchannels.csv',index=False)"
   ]
  },
  {
   "cell_type": "code",
   "execution_count": 39,
   "id": "13d8e0d4",
   "metadata": {},
   "outputs": [
    {
     "data": {
      "text/plain": [
       "(4561, 13)"
      ]
     },
     "execution_count": 39,
     "metadata": {},
     "output_type": "execute_result"
    }
   ],
   "source": [
    "df[df.subscribers<1000].shape"
   ]
  },
  {
   "cell_type": "code",
   "execution_count": 1,
   "id": "bce31a80",
   "metadata": {},
   "outputs": [],
   "source": [
    "# change column names in all the csv\n",
    "# add new column in all the csv\n",
    "# merge all the csv except the current one \n",
    "# add the current one after the analysis"
   ]
  },
  {
   "cell_type": "code",
   "execution_count": 1,
   "id": "87df9a04",
   "metadata": {},
   "outputs": [],
   "source": [
    "import pandas as pd\n",
    "import re"
   ]
  },
  {
   "cell_type": "code",
   "execution_count": 5,
   "id": "1f893723",
   "metadata": {},
   "outputs": [],
   "source": [
    "df = pd.read_csv(r'C:\\Users\\eujin\\PycharmProjects\\pythonProject\\venv\\webscraping\\previous_youtube\\youtubechanneldata1.csv')\n",
    "df['replies'] = df['replies'].astype(str)"
   ]
  },
  {
   "cell_type": "code",
   "execution_count": 6,
   "id": "5a959bf6",
   "metadata": {},
   "outputs": [],
   "source": [
    "count = [int(pattern.group()) for reply in df['replies'].to_list() for pattern in [re.search(r'\\d+',reply)]  if pattern]"
   ]
  },
  {
   "cell_type": "code",
   "execution_count": 8,
   "id": "71ad2541",
   "metadata": {},
   "outputs": [
    {
     "data": {
      "text/plain": [
       "(1156,)"
      ]
     },
     "execution_count": 8,
     "metadata": {},
     "output_type": "execute_result"
    }
   ],
   "source": [
    "df['channel_id'].shape"
   ]
  },
  {
   "cell_type": "code",
   "execution_count": null,
   "id": "12d1b01a",
   "metadata": {},
   "outputs": [],
   "source": []
  }
 ],
 "metadata": {
  "kernelspec": {
   "display_name": "Python 3 (ipykernel)",
   "language": "python",
   "name": "python3"
  },
  "language_info": {
   "codemirror_mode": {
    "name": "ipython",
    "version": 3
   },
   "file_extension": ".py",
   "mimetype": "text/x-python",
   "name": "python",
   "nbconvert_exporter": "python",
   "pygments_lexer": "ipython3",
   "version": "3.10.9"
  }
 },
 "nbformat": 4,
 "nbformat_minor": 5
}
